{
 "cells": [
  {
   "cell_type": "code",
   "execution_count": 31,
   "metadata": {},
   "outputs": [],
   "source": [
    "class Node:\n",
    "    def __init__(self, value, left  = None, right = None):\n",
    "        self.value = value \n",
    "        self.left = left\n",
    "        self.right = right\n",
    "        self.number = 1\n",
    "    \n",
    "    \n",
    "    def isleaf(self):\n",
    "        return not(self.left or self.right)"
   ]
  },
  {
   "cell_type": "code",
   "execution_count": 32,
   "metadata": {},
   "outputs": [],
   "source": [
    "class BST:\n",
    "    def __init__(self, root = None):\n",
    "        self.root = root\n",
    "    \n",
    "    \n",
    "    def insert(self, number):\n",
    "        return self.insert_helper(number, self.root)\n",
    "    \n",
    "    \n",
    "    def insert_helper(self, number, root):\n",
    "        if root == None:\n",
    "            return\n",
    "        else:\n",
    "            if number > root.value:\n",
    "                if root.right == None:\n",
    "                    root.right = Node(number)\n",
    "                else:\n",
    "                    self.insert_helper(number, root.right)\n",
    "            elif number < root.value:\n",
    "                if root.left == None:\n",
    "                    root.left = Node(number)\n",
    "                else:\n",
    "                    self.insert_helper(number, root.left)\n",
    "            else:\n",
    "                root.number += 1\n",
    "                \n",
    "                \n",
    "    def inorder(self):\n",
    "        return self.inorder_helper(self.root)\n",
    "        \n",
    "        \n",
    "    def inorder_helper(self, root):\n",
    "        lst = []\n",
    "        p = root\n",
    "        if p == None:\n",
    "            return lst\n",
    "        if p.isleaf():\n",
    "            lst += [p.value]*p.number\n",
    "        else:\n",
    "            lst += self.inorder_helper(p.left) + [p.value]*p.number + self.inorder_helper(p.right)\n",
    "        return lst"
   ]
  },
  {
   "cell_type": "code",
   "execution_count": 33,
   "metadata": {},
   "outputs": [
    {
     "name": "stdout",
     "output_type": "stream",
     "text": [
      "[-122, -122, -9, 1, 1, 10, 10]\n"
     ]
    }
   ],
   "source": [
    "root = Node(1)\n",
    "bst = BST(root)\n",
    "bst.insert(1)\n",
    "bst.insert(-9)\n",
    "bst.insert(10)\n",
    "bst.insert(-122)\n",
    "bst.insert(10)\n",
    "bst.insert(-122)\n",
    "inorder_list = bst.inorder()\n",
    "print(inorder_list)"
   ]
  }
 ],
 "metadata": {
  "kernelspec": {
   "display_name": "Python 3",
   "language": "python",
   "name": "python3"
  },
  "language_info": {
   "codemirror_mode": {
    "name": "ipython",
    "version": 3
   },
   "file_extension": ".py",
   "mimetype": "text/x-python",
   "name": "python",
   "nbconvert_exporter": "python",
   "pygments_lexer": "ipython3",
   "version": "3.6.7"
  }
 },
 "nbformat": 4,
 "nbformat_minor": 2
}
