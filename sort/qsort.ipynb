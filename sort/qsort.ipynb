{
 "cells": [
  {
   "cell_type": "code",
   "execution_count": 62,
   "metadata": {},
   "outputs": [],
   "source": [
    "import random"
   ]
  },
  {
   "cell_type": "code",
   "execution_count": 63,
   "metadata": {},
   "outputs": [],
   "source": [
    "def qsort(lst):\n",
    "    def qsort_helper(xs, low, high):\n",
    "        if low >= high:\n",
    "            return\n",
    "        random_index = random.randint(low, high)\n",
    "        xs[low], xs[random_index] = xs[random_index], xs[low]\n",
    "        pivot_index = low\n",
    "        i = low + 1\n",
    "        j = high\n",
    "        while i <= j:\n",
    "            if xs[i] < xs[pivot_index]:\n",
    "                xs[i], xs[pivot_index] = xs[pivot_index], xs[i]\n",
    "                pivot_index = i\n",
    "                i += 1\n",
    "            else:\n",
    "                xs[i], xs[j] = xs[j], xs[i]\n",
    "                j -= 1\n",
    "        qsort_helper(xs, low, pivot_index - 1)\n",
    "        qsort_helper(xs, pivot_index + 1, high)\n",
    "    return qsort_helper(lst, 0, len(lst) - 1)"
   ]
  },
  {
   "cell_type": "code",
   "execution_count": 64,
   "metadata": {},
   "outputs": [
    {
     "name": "stdout",
     "output_type": "stream",
     "text": [
      "unsort list [25, 19, 76, 13, 64, 95, 93, 58, 68, 2, 26, 32, 82, 47, 17, 94, 33, 85, 81, 96, 79, 12, 72, 10, 3, 93, 14, 25, 11, 50]\n",
      "sorted list [2, 3, 10, 11, 12, 13, 14, 17, 19, 25, 25, 26, 32, 33, 47, 50, 58, 64, 68, 72, 76, 79, 81, 82, 85, 93, 93, 94, 95, 96]\n"
     ]
    }
   ],
   "source": [
    "lst = [random.randint(1, 100) for x in range(30)]\n",
    "print('unsort list', lst)\n",
    "qsort(lst)\n",
    "print('sorted list', lst)"
   ]
  }
 ],
 "metadata": {
  "kernelspec": {
   "display_name": "Python 3",
   "language": "python",
   "name": "python3"
  },
  "language_info": {
   "codemirror_mode": {
    "name": "ipython",
    "version": 3
   },
   "file_extension": ".py",
   "mimetype": "text/x-python",
   "name": "python",
   "nbconvert_exporter": "python",
   "pygments_lexer": "ipython3",
   "version": "3.6.7"
  }
 },
 "nbformat": 4,
 "nbformat_minor": 2
}
