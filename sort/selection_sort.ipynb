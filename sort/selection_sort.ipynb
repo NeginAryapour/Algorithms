{
 "cells": [
  {
   "cell_type": "code",
   "execution_count": 60,
   "metadata": {},
   "outputs": [],
   "source": [
    "def findmin(lst):\n",
    "    min = lst[0]\n",
    "    min_i = 0\n",
    "    for i in range(1,len(lst)):\n",
    "            if lst[i] < min:\n",
    "                min = lst[i]\n",
    "                min_i = i\n",
    "    return min, min_i"
   ]
  },
  {
   "cell_type": "code",
   "execution_count": 61,
   "metadata": {},
   "outputs": [],
   "source": [
    "def selection_sort(lst, sorted_list):\n",
    "    if lst == []:\n",
    "        return sorted_list\n",
    "    else:\n",
    "        min , min_i = findmin(lst)\n",
    "        sorted_list.append(min)\n",
    "        lst[min_i], lst[-1] = lst[-1], lst[min_i]\n",
    "        lst.pop()\n",
    "        return selection_sort(lst, sorted_list)       "
   ]
  },
  {
   "cell_type": "code",
   "execution_count": 62,
   "metadata": {},
   "outputs": [
    {
     "data": {
      "text/plain": [
       "[-9, -2, 2, 2, 4, 5, 5, 9]"
      ]
     },
     "execution_count": 62,
     "metadata": {},
     "output_type": "execute_result"
    }
   ],
   "source": [
    "lst = [-9, 9, 2, 4, 5, -2, 5, 2]\n",
    "selectsort(lst,[])"
   ]
  }
 ],
 "metadata": {
  "kernelspec": {
   "display_name": "Python 3",
   "language": "python",
   "name": "python3"
  },
  "language_info": {
   "codemirror_mode": {
    "name": "ipython",
    "version": 3
   },
   "file_extension": ".py",
   "mimetype": "text/x-python",
   "name": "python",
   "nbconvert_exporter": "python",
   "pygments_lexer": "ipython3",
   "version": "3.6.7"
  }
 },
 "nbformat": 4,
 "nbformat_minor": 2
}
