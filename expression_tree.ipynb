{
 "cells": [
  {
   "cell_type": "markdown",
   "metadata": {},
   "source": [
    "# Expression Tree"
   ]
  },
  {
   "cell_type": "code",
   "execution_count": 14,
   "metadata": {},
   "outputs": [],
   "source": [
    "op = {'+': 1, '-': 1, '*': 2, '/': 2}\n",
    "\n",
    "class Node:\n",
    "    def __init__(self, value, left = None, right = None):\n",
    "        self.value = value\n",
    "        self.left = left\n",
    "        self.right = right\n",
    "\n",
    "    def is_leaf(self):\n",
    "        return not (self.left or self.right)\n",
    "\n",
    "    def is_op(self):\n",
    "        return self.value in op"
   ]
  },
  {
   "cell_type": "code",
   "execution_count": 15,
   "metadata": {},
   "outputs": [],
   "source": [
    "def postfix_to_tree(postfix):\n",
    "    stack = []\n",
    "    for c in postfix:\n",
    "        if ord(c) >= ord('0') and ord(c) <= ord('9'):\n",
    "            stack.append(Node(c))\n",
    "        else:\n",
    "            right = stack.pop()\n",
    "            left = stack.pop()\n",
    "            stack.append(Node(c, left, right))\n",
    "    if len(stack) > 1:\n",
    "        raise ValueError(\"Invalid input\")\n",
    "    return stack[0]"
   ]
  },
  {
   "cell_type": "code",
   "execution_count": 16,
   "metadata": {},
   "outputs": [],
   "source": [
    "def infix_traverse(root):\n",
    "    if root.is_leaf():\n",
    "        return root.value\n",
    "    else:\n",
    "        left_s = infix_traverse(root.left)\n",
    "        right_s = infix_traverse(root.right)\n",
    "        if root.left.is_op() and op[root.value] > op[root.left.value]:\n",
    "            left_s = \"(\" + left_s + \")\"\n",
    "        if root.right.is_op() and op[root.value] > op[root.right.value]:\n",
    "            right_s = \"(\" + right_s + \")\"\n",
    "        return left_s + root.value + right_s"
   ]
  },
  {
   "cell_type": "code",
   "execution_count": 17,
   "metadata": {},
   "outputs": [],
   "source": [
    "def prefix_traverse(root):\n",
    "    if root.is_leaf():\n",
    "        return root.value\n",
    "    else:\n",
    "        left_s = prefix_traverse(root.left)\n",
    "        right_s = prefix_traverse(root.right)\n",
    "        return root.value + left_s + right_s"
   ]
  },
  {
   "cell_type": "code",
   "execution_count": 18,
   "metadata": {},
   "outputs": [],
   "source": [
    "def postfix_traverse(root):\n",
    "    if root.is_leaf():\n",
    "        return root.value\n",
    "    else:\n",
    "        left_s = postfix_traverse(root.left)\n",
    "        right_s = postfix_traverse(root.right)\n",
    "        return left_s + right_s + root.value"
   ]
  },
  {
   "cell_type": "code",
   "execution_count": 19,
   "metadata": {},
   "outputs": [
    {
     "name": "stdout",
     "output_type": "stream",
     "text": [
      "postfix 234-*1+\n",
      "infix 2*(3-4)+1\n",
      "prefix +*2-341\n",
      "postfix 234-*1+\n"
     ]
    }
   ],
   "source": [
    "postfix = '234-*1+'\n",
    "tree_root = postfix_to_tree(postfix)\n",
    "infix = infix_traverse(tree_root)\n",
    "prefix = prefix_traverse(tree_root)\n",
    "postfix = postfix_traverse(tree_root)\n",
    "print('postfix', postfix)\n",
    "print('infix', infix)\n",
    "print('prefix', prefix)\n",
    "print('postfix', postfix)"
   ]
  }
 ],
 "metadata": {
  "kernelspec": {
   "display_name": "Python 3",
   "language": "python",
   "name": "python3"
  },
  "language_info": {
   "codemirror_mode": {
    "name": "ipython",
    "version": 3
   },
   "file_extension": ".py",
   "mimetype": "text/x-python",
   "name": "python",
   "nbconvert_exporter": "python",
   "pygments_lexer": "ipython3",
   "version": "3.6.7"
  }
 },
 "nbformat": 4,
 "nbformat_minor": 2
}
